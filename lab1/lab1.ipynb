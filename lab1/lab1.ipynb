{
 "cells": [
  {
   "cell_type": "code",
   "execution_count": 43,
   "metadata": {},
   "outputs": [],
   "source": [
    "import numpy as np\n",
    "import scipy as sp\n",
    "import matplotlib.pyplot as plt"
   ]
  },
  {
   "cell_type": "markdown",
   "metadata": {},
   "source": [
    "Кіберзахист об'єктів критичної інфраструктури\n",
    "Лабораторна №1\n",
    "ФБ-31мн\n",
    "Скоробагатько Максим\n",
    "Варіант №5"
   ]
  },
  {
   "cell_type": "markdown",
   "metadata": {},
   "source": [
    "Вносимо дані відповідно до варіанту"
   ]
  },
  {
   "cell_type": "code",
   "execution_count": 44,
   "metadata": {},
   "outputs": [],
   "source": [
    "x = [1, 3, 5, 7, 9, 11, 13, 15, 17, 19, 21, 23]\n",
    "y = [5, 6, 7, 1, 2, 3, 5, 4, 3, 2, 1, 0.01]\n"
   ]
  },
  {
   "cell_type": "markdown",
   "metadata": {},
   "source": [
    "Будуємо графік залежності $y$ від $x$ "
   ]
  },
  {
   "cell_type": "code",
   "execution_count": 45,
   "metadata": {},
   "outputs": [
    {
     "data": {
      "image/png": "[encoded data removed]",
      "text/plain": [
       "<Figure size 640x480 with 1 Axes>"
      ]
     },
     "metadata": {},
     "output_type": "display_data"
    }
   ],
   "source": [
    "xpoints = np.array(x)\n",
    "ypoints = np.array(y)\n",
    "\n",
    "plt.plot(xpoints, ypoints)\n",
    "plt.show()"
   ]
  },
  {
   "cell_type": "markdown",
   "metadata": {},
   "source": [
    "Обчислюємо параметри лінійної регресії $a_{\\text{МНК}} = \\frac{cov_{x,y}}{\\sigma^{2}}$, $b = y' - a_{\\text{МНК}}$,\n",
    "\n",
    "де $x' = \\frac{\\sum_{i=1}^{T}x_{i}}{T}$ \n",
    "\n",
    "$y' = \\frac{\\sum_{i=1}^{T}y_{i}}{T}$, \n",
    "\n",
    "$\\sigma^{2} = \\frac{\\sum_{i=1}^{T}(x_{i} - x')^{2}}{T - 1}$, \n",
    "\n",
    "$cov_{x,y} = \\frac{\\sum_{i=1}^{T}(x_{i} - x')(y_{i} - y')}{T - 1}$"
   ]
  },
  {
   "cell_type": "code",
   "execution_count": 46,
   "metadata": {},
   "outputs": [
    {
     "name": "stdout",
     "output_type": "stream",
     "text": [
      "x середнє --  12.0 \n",
      "y середнє --  3.250833333333333\n",
      "дисперсія --  52.0\n",
      "коваріація --  -10.626363636363635 \n",
      "\n",
      "a_mnk --  -0.20435314685314682 \n",
      "b --  3.45518648018648\n"
     ]
    }
   ],
   "source": [
    "x_average = sum(x) / len(x)\n",
    "y_average = sum(y) / len(y)\n",
    "\n",
    "print('x середнє -- ', x_average, '\\ny середнє -- ', y_average)\n",
    "\n",
    "temp_sum = []\n",
    "for i in x:\n",
    "    temp_sum.append( pow(i - x_average, 2) )\n",
    "\n",
    "dispersion = sum(temp_sum) / (len(x) - 1)\n",
    "del temp_sum\n",
    "\n",
    "print('дисперсія -- ', dispersion)\n",
    "\n",
    "temp_sum = []\n",
    "for i in range(0, len(x)):\n",
    "    temp_sum.append( (x[i] - x_average) * (y[i] - y_average) )\n",
    "\n",
    "covariation = sum(temp_sum) / (len(x) - 1)\n",
    "del temp_sum\n",
    "\n",
    "print('коваріація -- ', covariation, '\\n')\n",
    "\n",
    "############################\n",
    "a = covariation / dispersion\n",
    "\n",
    "b = y_average - a\n",
    "\n",
    "print('a_mnk -- ', a, '\\nb -- ', b)"
   ]
  },
  {
   "cell_type": "markdown",
   "metadata": {},
   "source": [
    "Тепер необхідно перевірити адекватність використаної моделі. Для цього необхдно обчислити коефіцієнт детермінації $R^{2}$ та похибку $\\varepsilon$"
   ]
  },
  {
   "cell_type": "markdown",
   "metadata": {},
   "source": [
    "$R^{2} = \\frac{\\sum_{i=1}^{T} (y_{i}^{*} - y')^{2}}{\\sum_{i=1}^{T} (y_{i} - y')^{2}}$\n",
    "\n",
    "$\\varepsilon = \\frac{1}{T} * \\sum_{i=1}^{T} |\\frac{y_{i} - y_{i}^{*}}{y_{i}}| * 100$"
   ]
  },
  {
   "cell_type": "code",
   "execution_count": 47,
   "metadata": {},
   "outputs": [
    {
     "name": "stdout",
     "output_type": "stream",
     "text": [
      "коефіцієнт r^2 --  1.6196706677176806\n",
      "похибка e --  1121.9621023652267\n"
     ]
    }
   ],
   "source": [
    "y_linear = []\n",
    "for i in x:\n",
    "    y_linear.append( a * i + b )\n",
    "\n",
    "temp_sum1 = []\n",
    "temp_sum2 = []\n",
    "for i in range(0, len(y)):\n",
    "    temp_sum1.append( pow(y_linear[i] - y_average, 2) )\n",
    "    temp_sum2.append( pow(y[i] - y_average, 2) )\n",
    "\n",
    "r_2 = sum(temp_sum1) / sum(temp_sum2)\n",
    "del temp_sum1, temp_sum2\n",
    "\n",
    "print('коефіцієнт r^2 -- ', r_2)\n",
    "\n",
    "\n",
    "\n",
    "temp_sum = []\n",
    "for i in range(0, len(y)):\n",
    "    temp_sum.append( abs( ( y[i] - y_linear[i] ) / y[i] ) )\n",
    "\n",
    "epsilon = sum(temp_sum) / len(y) * 100\n",
    "del temp_sum\n",
    "\n",
    "print('похибка e -- ', epsilon)"
   ]
  },
  {
   "cell_type": "markdown",
   "metadata": {},
   "source": [
    "За отриманими даними маємо наступні результати:\n",
    "\n",
    "відсутня лінійна регресія між $x$ та $y$, оскільки значення коефіцієнта детермінації суттєво різниться від одиниці.\n",
    "\n",
    "маємо суттєве значення похибки. на що впливає показник 23го місяця після прийняття політики.\n"
   ]
  }
 ],
 "metadata": {
  "kernelspec": {
   "display_name": "Python 3",
   "language": "python",
   "name": "python3"
  },
  "language_info": {
   "codemirror_mode": {
    "name": "ipython",
    "version": 3
   },
   "file_extension": ".py",
   "mimetype": "text/x-python",
   "name": "python",
   "nbconvert_exporter": "python",
   "pygments_lexer": "ipython3",
   "version": "3.11.4"
  },
  "orig_nbformat": 4
 },
 "nbformat": 4,
 "nbformat_minor": 2
}
